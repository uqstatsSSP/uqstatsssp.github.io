{
 "cells": [
  {
   "cell_type": "markdown",
   "metadata": {},
   "source": [
    "# Testing the CalibratedLanedector"
   ]
  },
  {
   "cell_type": "markdown",
   "metadata": {},
   "source": [
    "## Setting up Colab"
   ]
  },
  {
   "cell_type": "code",
   "execution_count": null,
   "metadata": {},
   "outputs": [],
   "source": [
    "colab_nb = 'google.colab' in str(get_ipython())"
   ]
  },
  {
   "cell_type": "code",
   "execution_count": null,
   "metadata": {},
   "outputs": [],
   "source": [
    "if colab_nb:\n",
    "  from google.colab import drive\n",
    "  drive.mount('/content/drive')"
   ]
  },
  {
   "cell_type": "code",
   "execution_count": null,
   "metadata": {},
   "outputs": [],
   "source": [
    "if colab_nb:\n",
    "  %cd /content/drive/My Drive/aad/code/tests/camera_calibration"
   ]
  },
  {
   "cell_type": "markdown",
   "metadata": {},
   "source": [
    "## Exercise"
   ]
  },
  {
   "cell_type": "code",
   "execution_count": null,
   "metadata": {},
   "outputs": [],
   "source": [
    "import numpy as np\n",
    "import cv2\n",
    "import imageio\n",
    "import matplotlib.pyplot as plt\n",
    "from pathlib import Path"
   ]
  },
  {
   "cell_type": "markdown",
   "metadata": {},
   "source": [
    "Solve the TODO items in `exercises/camera_calibration/calibrated_lane_detector.py` which are labeled as **\"TODO\"**!"
   ]
  },
  {
   "cell_type": "markdown",
   "metadata": {},
   "source": [
    "If you set the following boolean to `True`, your code will run. I would recommend to set them to `False` first and execute **all** remaining cells of this notebook. Study the outputs to know how a correct solution performs. Then switch to `run_student_code = False` and check your solution for correctness!"
   ]
  },
  {
   "cell_type": "code",
   "execution_count": null,
   "metadata": {},
   "outputs": [],
   "source": [
    "run_student_code = False"
   ]
  },
  {
   "cell_type": "code",
   "execution_count": null,
   "metadata": {},
   "outputs": [],
   "source": [
    "%load_ext autoreload\n",
    "%autoreload 2\n",
    "import sys\n",
    "sys.path.append(str(Path('../../')))"
   ]
  },
  {
   "cell_type": "code",
   "execution_count": null,
   "metadata": {},
   "outputs": [],
   "source": [
    "if run_student_code:\n",
    "    from exercises.camera_calibration.calibrated_lane_detector import CalibratedLaneDetector, get_intersection, get_py_from_vp\n",
    "else:\n",
    "    from solutions.camera_calibration.calibrated_lane_detector import CalibratedLaneDetector, get_intersection, get_py_from_vp"
   ]
  },
  {
   "cell_type": "markdown",
   "metadata": {},
   "source": [
    "TODO: Change the code in the next cell, to create an instance of *your* LaneDetector"
   ]
  },
  {
   "cell_type": "code",
   "execution_count": null,
   "metadata": {},
   "outputs": [],
   "source": [
    "def create_new_calibrated_lane_detector():\n",
    "    if run_student_code:\n",
    "        # TODO: Replace next line with your code here\n",
    "        cld = None\n",
    "    else:\n",
    "        # this is how the setup code looks like for the CalibratedLaneDetector from the `solutions` directory\n",
    "        model_path = Path(\"../../solutions/lane_detection/fastai_model.pth\")\n",
    "        cld = CalibratedLaneDetector(model_path=model_path)\n",
    "    return cld"
   ]
  },
  {
   "cell_type": "code",
   "execution_count": null,
   "metadata": {},
   "outputs": [],
   "source": [
    "cld = create_new_calibrated_lane_detector()"
   ]
  },
  {
   "cell_type": "markdown",
   "metadata": {},
   "source": [
    "## Tests on an image"
   ]
  },
  {
   "cell_type": "markdown",
   "metadata": {},
   "source": [
    "We will load an image for which the yaw angle was set to 2 degrees and the pitch angle was set to to -3 degrees in the Carla simulator."
   ]
  },
  {
   "cell_type": "code",
   "execution_count": null,
   "metadata": {},
   "outputs": [],
   "source": [
    "image_fn = str(Path(\"../../../data/Image_yaw_2_pitch_-3.png\"))\n",
    "image = cv2.imread(image_fn)\n",
    "image = cv2.cvtColor(image, cv2.COLOR_BGR2RGB)\n",
    "plt.imshow(image)\n",
    "image.shape"
   ]
  },
  {
   "cell_type": "markdown",
   "metadata": {},
   "source": [
    "First we detect the left and right boundaries as usual"
   ]
  },
  {
   "cell_type": "code",
   "execution_count": null,
   "metadata": {},
   "outputs": [],
   "source": [
    "_, left_probs, right_probs = cld.detect(image)\n",
    "# just to visualize both detections (left and right) in one image we add them up\n",
    "plt.imshow(left_probs + right_probs, cmap=\"gray\")"
   ]
  },
  {
   "cell_type": "markdown",
   "metadata": {},
   "source": [
    "Next we fit straight lines to the left and right boundary"
   ]
  },
  {
   "cell_type": "code",
   "execution_count": null,
   "metadata": {},
   "outputs": [],
   "source": [
    "line_left  = cld._fit_line_v_of_u(left_probs)\n",
    "line_right = cld._fit_line_v_of_u(right_probs)"
   ]
  },
  {
   "cell_type": "markdown",
   "metadata": {},
   "source": [
    "Let us visualize those straight lines"
   ]
  },
  {
   "cell_type": "code",
   "execution_count": null,
   "metadata": {},
   "outputs": [],
   "source": [
    "def plot_detected_lines(line_left, line_right):\n",
    "    u = np.arange(0,cld.cg.image_width, 1)\n",
    "    v_left = line_left(u)\n",
    "    v_right = line_right(u)\n",
    "\n",
    "    plt.plot(u,v_left, color='r')\n",
    "    plt.plot(u,v_right, color='b')\n",
    "    plt.xlim(0,cld.cg.image_width)\n",
    "    plt.ylim(cld.cg.image_height,0)\n",
    "\n",
    "plt.imshow(left_probs + right_probs, cmap=\"gray\")\n",
    "plot_detected_lines(line_left, line_right)"
   ]
  },
  {
   "cell_type": "markdown",
   "metadata": {},
   "source": [
    "Now compute the vanishing point (If your code works, you should get something close to (469, 191))"
   ]
  },
  {
   "cell_type": "code",
   "execution_count": null,
   "metadata": {},
   "outputs": [],
   "source": [
    "vanishing_point = get_intersection(line_left, line_right)\n",
    "print(vanishing_point)"
   ]
  },
  {
   "cell_type": "markdown",
   "metadata": {},
   "source": [
    "Visualize the vanishing point"
   ]
  },
  {
   "cell_type": "code",
   "execution_count": null,
   "metadata": {},
   "outputs": [],
   "source": [
    "u_i, v_i = vanishing_point\n",
    "plt.scatter([u_i],[v_i], marker=\"o\", s=100, color=\"c\", zorder=10)\n",
    "plt.imshow(left_probs + right_probs, cmap=\"gray\")\n",
    "plot_detected_lines(line_left, line_right)"
   ]
  },
  {
   "cell_type": "markdown",
   "metadata": {},
   "source": [
    "Finally determine pitch and yaw"
   ]
  },
  {
   "cell_type": "code",
   "execution_count": null,
   "metadata": {},
   "outputs": [],
   "source": [
    "pitch, yaw = get_py_from_vp(u_i, v_i, cld.cg.intrinsic_matrix)\n",
    "# print values and compare to the expected result\n",
    "print(\"pitch (deg):\\n  Computed:   {:.2f}\\n  True value: {:.2f}\".format(np.rad2deg(pitch), -3.00))\n",
    "print(\"yaw (deg):\\n  Computed:   {:.2f}\\n  True value: {:.2f}\".format(np.rad2deg(yaw), 2.00))\n",
    "print(\"\")"
   ]
  },
  {
   "cell_type": "markdown",
   "metadata": {},
   "source": [
    "## Test on a video"
   ]
  },
  {
   "cell_type": "markdown",
   "metadata": {},
   "source": [
    "Next we test the `CalibratedLaneDetector` on a video, where we have `yaw_deg=-1.7` and `pitch_deg=-2.3`. First let us have a look at the video. If the next cell does render a video on your machine, then please open the video using your file explorer to have a look (its' inside the `data` folder, which is a sibling folder of the `code` folder)."
   ]
  },
  {
   "cell_type": "code",
   "execution_count": null,
   "metadata": {},
   "outputs": [],
   "source": [
    "from IPython.display import Video\n",
    "video_filename = Path(\"../../../data/calibration_video.mp4\")\n",
    "Video(video_filename)"
   ]
  },
  {
   "cell_type": "markdown",
   "metadata": {},
   "source": [
    "Next the CalibratedLaneDetector is run on each image within this video. Your CalibratedLaneDetector should have some logic to **not** use the images where the vehicle is driving the turn.\n",
    "\n",
    "\n",
    "The execution of the next cell will probably take some time. Be patient ;)"
   ]
  },
  {
   "cell_type": "code",
   "execution_count": null,
   "metadata": {},
   "outputs": [],
   "source": [
    "cld = create_new_calibrated_lane_detector()\n",
    "yaw_list, pitch_list = [], []\n",
    "\n",
    "vid = imageio.get_reader(video_filename,  'ffmpeg')\n",
    "for image in vid:\n",
    "    cld(image)\n",
    "    yaw_list.append(cld.estimated_yaw_deg)\n",
    "    pitch_list.append(cld.estimated_pitch_deg)"
   ]
  },
  {
   "cell_type": "markdown",
   "metadata": {},
   "source": [
    "We can check the correctness of the lane detector with the following plots. After some initialization time steps, the `CalibratedLaneDetector` should estimate `yaw` and `pitch` with an error of less than 0.5 degrees"
   ]
  },
  {
   "cell_type": "code",
   "execution_count": null,
   "metadata": {},
   "outputs": [],
   "source": [
    "plt.plot(yaw_list, color=\"r\", label=\"Estimated yaw\")\n",
    "plt.plot([-1.7]*len(yaw_list), color=\"k\", ls=\"--\", label=\"True yaw\")\n",
    "plt.legend()"
   ]
  },
  {
   "cell_type": "code",
   "execution_count": null,
   "metadata": {},
   "outputs": [],
   "source": [
    "plt.plot(pitch_list, color=\"b\", label=\"Estimated pitch\")\n",
    "plt.plot([-2.3]*len(pitch_list), color=\"k\", ls=\"--\", label=\"True pitch\")\n",
    "plt.legend()"
   ]
  },
  {
   "cell_type": "code",
   "execution_count": null,
   "metadata": {},
   "outputs": [],
   "source": []
  }
 ],
 "metadata": {
  "interpreter": {
   "hash": "7fe9c202b0db07198d9dcc7af04293ef8fbb00cb7b704bc35bc25acfd92023a0"
  },
  "kernelspec": {
   "display_name": "Python 3 (ipykernel)",
   "language": "python",
   "name": "python3"
  },
  "language_info": {
   "codemirror_mode": {
    "name": "ipython",
    "version": 3
   },
   "file_extension": ".py",
   "mimetype": "text/x-python",
   "name": "python",
   "nbconvert_exporter": "python",
   "pygments_lexer": "ipython3",
   "version": "3.7.11"
  }
 },
 "nbformat": 4,
 "nbformat_minor": 2
}
