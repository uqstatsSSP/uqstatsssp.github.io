{
 "cells": [
  {
   "cell_type": "markdown",
   "id": "1c047773",
   "metadata": {},
   "source": [
    "# Variable Selection Methods\n",
    "\n",
    "How do we choose what explanatory variables to include in our model? Do we include all possible explanatory variables or a subset of the variables? In this tutorial, we will explore variable selection techniques in regression modeling using the Boston dataset from the MASS package. "
   ]
  },
  {
   "cell_type": "markdown",
   "id": "9042cc7f",
   "metadata": {},
   "source": [
    "## The dataset\n",
    "\n",
    "For this tutorial we will be using the Boston housing dataset contained in the **MASS** package in R. The data was originally published by Harrison, D. and Rubinfeld, D.L. 'Hedonic prices and the demand for clean air', J. Environ. Economics & Management, vol.5, 81-102, 1978. The dataset contains information concerning housing in the area of Boston. It contains 506 observations of 14 variables."
   ]
  },
  {
   "cell_type": "code",
   "execution_count": 2,
   "id": "4b5fe07e",
   "metadata": {},
   "outputs": [],
   "source": [
    "#Install and load the required packages\n",
    "library(MASS)\n",
    "\n",
    "\n",
    "\n",
    "#Load the Boston dataset\n",
    "data(Boston)"
   ]
  },
  {
   "cell_type": "code",
   "execution_count": 4,
   "id": "c8cfe938",
   "metadata": {},
   "outputs": [
    {
     "data": {
      "text/html": [
       "<table>\n",
       "<thead><tr><th scope=col>crim</th><th scope=col>zn</th><th scope=col>indus</th><th scope=col>chas</th><th scope=col>nox</th><th scope=col>rm</th><th scope=col>age</th><th scope=col>dis</th><th scope=col>rad</th><th scope=col>tax</th><th scope=col>ptratio</th><th scope=col>black</th><th scope=col>lstat</th><th scope=col>medv</th></tr></thead>\n",
       "<tbody>\n",
       "\t<tr><td>0.00632</td><td>18     </td><td>2.31   </td><td>0      </td><td>0.538  </td><td>6.575  </td><td>65.2   </td><td>4.0900 </td><td>1      </td><td>296    </td><td>15.3   </td><td>396.90 </td><td>4.98   </td><td>24.0   </td></tr>\n",
       "\t<tr><td>0.02731</td><td> 0     </td><td>7.07   </td><td>0      </td><td>0.469  </td><td>6.421  </td><td>78.9   </td><td>4.9671 </td><td>2      </td><td>242    </td><td>17.8   </td><td>396.90 </td><td>9.14   </td><td>21.6   </td></tr>\n",
       "\t<tr><td>0.02729</td><td> 0     </td><td>7.07   </td><td>0      </td><td>0.469  </td><td>7.185  </td><td>61.1   </td><td>4.9671 </td><td>2      </td><td>242    </td><td>17.8   </td><td>392.83 </td><td>4.03   </td><td>34.7   </td></tr>\n",
       "\t<tr><td>0.03237</td><td> 0     </td><td>2.18   </td><td>0      </td><td>0.458  </td><td>6.998  </td><td>45.8   </td><td>6.0622 </td><td>3      </td><td>222    </td><td>18.7   </td><td>394.63 </td><td>2.94   </td><td>33.4   </td></tr>\n",
       "\t<tr><td>0.06905</td><td> 0     </td><td>2.18   </td><td>0      </td><td>0.458  </td><td>7.147  </td><td>54.2   </td><td>6.0622 </td><td>3      </td><td>222    </td><td>18.7   </td><td>396.90 </td><td>5.33   </td><td>36.2   </td></tr>\n",
       "\t<tr><td>0.02985</td><td> 0     </td><td>2.18   </td><td>0      </td><td>0.458  </td><td>6.430  </td><td>58.7   </td><td>6.0622 </td><td>3      </td><td>222    </td><td>18.7   </td><td>394.12 </td><td>5.21   </td><td>28.7   </td></tr>\n",
       "</tbody>\n",
       "</table>\n"
      ],
      "text/latex": [
       "\\begin{tabular}{r|llllllllllllll}\n",
       " crim & zn & indus & chas & nox & rm & age & dis & rad & tax & ptratio & black & lstat & medv\\\\\n",
       "\\hline\n",
       "\t 0.00632 & 18      & 2.31    & 0       & 0.538   & 6.575   & 65.2    & 4.0900  & 1       & 296     & 15.3    & 396.90  & 4.98    & 24.0   \\\\\n",
       "\t 0.02731 &  0      & 7.07    & 0       & 0.469   & 6.421   & 78.9    & 4.9671  & 2       & 242     & 17.8    & 396.90  & 9.14    & 21.6   \\\\\n",
       "\t 0.02729 &  0      & 7.07    & 0       & 0.469   & 7.185   & 61.1    & 4.9671  & 2       & 242     & 17.8    & 392.83  & 4.03    & 34.7   \\\\\n",
       "\t 0.03237 &  0      & 2.18    & 0       & 0.458   & 6.998   & 45.8    & 6.0622  & 3       & 222     & 18.7    & 394.63  & 2.94    & 33.4   \\\\\n",
       "\t 0.06905 &  0      & 2.18    & 0       & 0.458   & 7.147   & 54.2    & 6.0622  & 3       & 222     & 18.7    & 396.90  & 5.33    & 36.2   \\\\\n",
       "\t 0.02985 &  0      & 2.18    & 0       & 0.458   & 6.430   & 58.7    & 6.0622  & 3       & 222     & 18.7    & 394.12  & 5.21    & 28.7   \\\\\n",
       "\\end{tabular}\n"
      ],
      "text/markdown": [
       "\n",
       "| crim | zn | indus | chas | nox | rm | age | dis | rad | tax | ptratio | black | lstat | medv |\n",
       "|---|---|---|---|---|---|---|---|---|---|---|---|---|---|\n",
       "| 0.00632 | 18      | 2.31    | 0       | 0.538   | 6.575   | 65.2    | 4.0900  | 1       | 296     | 15.3    | 396.90  | 4.98    | 24.0    |\n",
       "| 0.02731 |  0      | 7.07    | 0       | 0.469   | 6.421   | 78.9    | 4.9671  | 2       | 242     | 17.8    | 396.90  | 9.14    | 21.6    |\n",
       "| 0.02729 |  0      | 7.07    | 0       | 0.469   | 7.185   | 61.1    | 4.9671  | 2       | 242     | 17.8    | 392.83  | 4.03    | 34.7    |\n",
       "| 0.03237 |  0      | 2.18    | 0       | 0.458   | 6.998   | 45.8    | 6.0622  | 3       | 222     | 18.7    | 394.63  | 2.94    | 33.4    |\n",
       "| 0.06905 |  0      | 2.18    | 0       | 0.458   | 7.147   | 54.2    | 6.0622  | 3       | 222     | 18.7    | 396.90  | 5.33    | 36.2    |\n",
       "| 0.02985 |  0      | 2.18    | 0       | 0.458   | 6.430   | 58.7    | 6.0622  | 3       | 222     | 18.7    | 394.12  | 5.21    | 28.7    |\n",
       "\n"
      ],
      "text/plain": [
       "  crim    zn indus chas nox   rm    age  dis    rad tax ptratio black  lstat\n",
       "1 0.00632 18 2.31  0    0.538 6.575 65.2 4.0900 1   296 15.3    396.90 4.98 \n",
       "2 0.02731  0 7.07  0    0.469 6.421 78.9 4.9671 2   242 17.8    396.90 9.14 \n",
       "3 0.02729  0 7.07  0    0.469 7.185 61.1 4.9671 2   242 17.8    392.83 4.03 \n",
       "4 0.03237  0 2.18  0    0.458 6.998 45.8 6.0622 3   222 18.7    394.63 2.94 \n",
       "5 0.06905  0 2.18  0    0.458 7.147 54.2 6.0622 3   222 18.7    396.90 5.33 \n",
       "6 0.02985  0 2.18  0    0.458 6.430 58.7 6.0622 3   222 18.7    394.12 5.21 \n",
       "  medv\n",
       "1 24.0\n",
       "2 21.6\n",
       "3 34.7\n",
       "4 33.4\n",
       "5 36.2\n",
       "6 28.7"
      ]
     },
     "metadata": {},
     "output_type": "display_data"
    }
   ],
   "source": [
    "head(Boston)"
   ]
  },
  {
   "cell_type": "code",
   "execution_count": 5,
   "id": "5204d92d",
   "metadata": {},
   "outputs": [
    {
     "data": {
      "text/plain": [
       "      crim                zn             indus            chas        \n",
       " Min.   : 0.00632   Min.   :  0.00   Min.   : 0.46   Min.   :0.00000  \n",
       " 1st Qu.: 0.08204   1st Qu.:  0.00   1st Qu.: 5.19   1st Qu.:0.00000  \n",
       " Median : 0.25651   Median :  0.00   Median : 9.69   Median :0.00000  \n",
       " Mean   : 3.61352   Mean   : 11.36   Mean   :11.14   Mean   :0.06917  \n",
       " 3rd Qu.: 3.67708   3rd Qu.: 12.50   3rd Qu.:18.10   3rd Qu.:0.00000  \n",
       " Max.   :88.97620   Max.   :100.00   Max.   :27.74   Max.   :1.00000  \n",
       "      nox               rm             age              dis        \n",
       " Min.   :0.3850   Min.   :3.561   Min.   :  2.90   Min.   : 1.130  \n",
       " 1st Qu.:0.4490   1st Qu.:5.886   1st Qu.: 45.02   1st Qu.: 2.100  \n",
       " Median :0.5380   Median :6.208   Median : 77.50   Median : 3.207  \n",
       " Mean   :0.5547   Mean   :6.285   Mean   : 68.57   Mean   : 3.795  \n",
       " 3rd Qu.:0.6240   3rd Qu.:6.623   3rd Qu.: 94.08   3rd Qu.: 5.188  \n",
       " Max.   :0.8710   Max.   :8.780   Max.   :100.00   Max.   :12.127  \n",
       "      rad              tax           ptratio          black       \n",
       " Min.   : 1.000   Min.   :187.0   Min.   :12.60   Min.   :  0.32  \n",
       " 1st Qu.: 4.000   1st Qu.:279.0   1st Qu.:17.40   1st Qu.:375.38  \n",
       " Median : 5.000   Median :330.0   Median :19.05   Median :391.44  \n",
       " Mean   : 9.549   Mean   :408.2   Mean   :18.46   Mean   :356.67  \n",
       " 3rd Qu.:24.000   3rd Qu.:666.0   3rd Qu.:20.20   3rd Qu.:396.23  \n",
       " Max.   :24.000   Max.   :711.0   Max.   :22.00   Max.   :396.90  \n",
       "     lstat            medv      \n",
       " Min.   : 1.73   Min.   : 5.00  \n",
       " 1st Qu.: 6.95   1st Qu.:17.02  \n",
       " Median :11.36   Median :21.20  \n",
       " Mean   :12.65   Mean   :22.53  \n",
       " 3rd Qu.:16.95   3rd Qu.:25.00  \n",
       " Max.   :37.97   Max.   :50.00  "
      ]
     },
     "metadata": {},
     "output_type": "display_data"
    }
   ],
   "source": [
    "summary(Boston)"
   ]
  },
  {
   "cell_type": "code",
   "execution_count": 6,
   "id": "594430ca",
   "metadata": {},
   "outputs": [
    {
     "name": "stdout",
     "output_type": "stream",
     "text": [
      "'data.frame':\t506 obs. of  14 variables:\n",
      " $ crim   : num  0.00632 0.02731 0.02729 0.03237 0.06905 ...\n",
      " $ zn     : num  18 0 0 0 0 0 12.5 12.5 12.5 12.5 ...\n",
      " $ indus  : num  2.31 7.07 7.07 2.18 2.18 2.18 7.87 7.87 7.87 7.87 ...\n",
      " $ chas   : int  0 0 0 0 0 0 0 0 0 0 ...\n",
      " $ nox    : num  0.538 0.469 0.469 0.458 0.458 0.458 0.524 0.524 0.524 0.524 ...\n",
      " $ rm     : num  6.58 6.42 7.18 7 7.15 ...\n",
      " $ age    : num  65.2 78.9 61.1 45.8 54.2 58.7 66.6 96.1 100 85.9 ...\n",
      " $ dis    : num  4.09 4.97 4.97 6.06 6.06 ...\n",
      " $ rad    : int  1 2 2 3 3 3 5 5 5 5 ...\n",
      " $ tax    : num  296 242 242 222 222 222 311 311 311 311 ...\n",
      " $ ptratio: num  15.3 17.8 17.8 18.7 18.7 18.7 15.2 15.2 15.2 15.2 ...\n",
      " $ black  : num  397 397 393 395 397 ...\n",
      " $ lstat  : num  4.98 9.14 4.03 2.94 5.33 ...\n",
      " $ medv   : num  24 21.6 34.7 33.4 36.2 28.7 22.9 27.1 16.5 18.9 ...\n"
     ]
    }
   ],
   "source": [
    "str(Boston)"
   ]
  },
  {
   "cell_type": "markdown",
   "id": "ecd7ef04",
   "metadata": {},
   "source": [
    "To find out more about the variables included in the dataset run the following:"
   ]
  },
  {
   "cell_type": "code",
   "execution_count": 7,
   "id": "971efb63",
   "metadata": {},
   "outputs": [],
   "source": [
    "?Boston"
   ]
  },
  {
   "cell_type": "markdown",
   "id": "8d1e8319",
   "metadata": {},
   "source": [
    "## Common criteria for model selection"
   ]
  },
  {
   "cell_type": "markdown",
   "id": "8e4dc24c",
   "metadata": {},
   "source": [
    "Before we get into the different strategies for variable selection we need to introduce some criteria used to measure the best fit for our model. You will then need to choose which criteria to use when carrying out the different strategies for variable selection.\n",
    "\n",
    "### AIC and BIC\n",
    "\n",
    "The Akaike's Information Criterion (AIC) and Bayesian Iformation Criterion (BIC) are 2 well-known methods for statistical model selection when using models fitted by maximum likelihood. I have provided the formula's for each criterion below.\n",
    "\n",
    "**AIC** $= 2k - 2ln(L) $\n",
    "\n",
    "**BIC** $= kln(n) - 2ln(L) $\n",
    "\n",
    "where $k = $number of parameters, $n = $ number of data points and $L = $ the likelihood.  \n",
    "\n",
    "The aim when choosing the best model is to minimise the AIC or BIC for the fitted models. AIC tends to favor models with more parameters as it has a lower penalty for complexity. BIC tends to favor simpler models, especially as the sample size increases, due to the logarithmic penalty term. We can calculate the AIC and BIC for fitted models using the AIC() and BIC() functions in R, which we will do in the following sections. For more information about __[AIC](https://en.wikipedia.org/wiki/Akaike_information_criterion)__ and __[BIC](https://en.wikipedia.org/wiki/Bayesian_information_criterion)__ click these links.\n",
    "\n",
    "\n"
   ]
  },
  {
   "cell_type": "markdown",
   "id": "d6706d18",
   "metadata": {},
   "source": [
    "## Forward selection algorithm"
   ]
  },
  {
   "cell_type": "markdown",
   "id": "139c9f7f",
   "metadata": {},
   "source": [
    "When using the forward selection algorithm we start with the simplest model then one by one we add the variable that reduces AIC or BIC of the model the most. This process is repeated until we cannot reduce the AIC or BIC by adding another variable. The response variable for our model is medv (median value of owner-occupied homes in $1000s.) and we want to explore which explanatory variables, if any, have a significant impact on our response variable."
   ]
  },
  {
   "cell_type": "code",
   "execution_count": 3,
   "id": "667732c1",
   "metadata": {},
   "outputs": [
    {
     "name": "stdout",
     "output_type": "stream",
     "text": [
      "Start:  AIC=2250.74\n",
      "medv ~ 1\n",
      "\n",
      "          Df Sum of Sq   RSS    AIC\n",
      "+ lstat    1   23243.9 19472 1859.5\n",
      "+ rm       1   20654.4 22062 1922.6\n",
      "+ ptratio  1   11014.3 31702 2106.1\n",
      "+ indus    1    9995.2 32721 2122.1\n",
      "+ tax      1    9377.3 33339 2131.6\n",
      "+ nox      1    7800.1 34916 2154.9\n",
      "+ crim     1    6440.8 36276 2174.3\n",
      "+ rad      1    6221.1 36495 2177.3\n",
      "+ age      1    6069.8 36647 2179.4\n",
      "+ zn       1    5549.7 37167 2186.6\n",
      "+ black    1    4749.9 37966 2197.3\n",
      "+ dis      1    2668.2 40048 2224.3\n",
      "+ chas     1    1312.1 41404 2241.2\n",
      "<none>                 42716 2250.7\n",
      "\n",
      "Step:  AIC=1859.46\n",
      "medv ~ lstat\n",
      "\n",
      "          Df Sum of Sq   RSS    AIC\n",
      "+ rm       1    4033.1 15439 1748.3\n",
      "+ ptratio  1    2670.1 16802 1791.1\n",
      "+ chas     1     786.3 18686 1844.8\n",
      "+ dis      1     772.4 18700 1845.2\n",
      "+ age      1     304.3 19168 1857.7\n",
      "+ tax      1     274.4 19198 1858.5\n",
      "<none>                 19472 1859.5\n",
      "+ black    1     198.3 19274 1860.5\n",
      "+ zn       1     160.3 19312 1861.5\n",
      "+ crim     1     146.9 19325 1861.9\n",
      "+ indus    1      98.7 19374 1863.1\n",
      "+ rad      1      25.1 19447 1865.0\n",
      "+ nox      1       4.8 19468 1865.6\n",
      "\n",
      "Step:  AIC=1748.26\n",
      "medv ~ lstat + rm\n",
      "\n",
      "          Df Sum of Sq   RSS    AIC\n",
      "+ ptratio  1   1711.32 13728 1695.0\n",
      "+ chas     1    548.53 14891 1736.2\n",
      "+ black    1    512.31 14927 1737.4\n",
      "+ tax      1    425.16 15014 1740.3\n",
      "+ dis      1    351.15 15088 1742.8\n",
      "+ crim     1    311.42 15128 1744.2\n",
      "<none>                 15439 1748.3\n",
      "+ rad      1    180.45 15259 1748.5\n",
      "+ indus    1     61.09 15378 1752.5\n",
      "+ zn       1     56.56 15383 1752.6\n",
      "+ age      1     20.18 15419 1753.8\n",
      "+ nox      1     14.90 15424 1754.0\n",
      "\n",
      "Step:  AIC=1695.04\n",
      "medv ~ lstat + rm + ptratio\n",
      "\n",
      "        Df Sum of Sq   RSS    AIC\n",
      "+ dis    1    499.08 13229 1682.5\n",
      "+ black  1    389.68 13338 1686.7\n",
      "+ chas   1    377.96 13350 1687.1\n",
      "<none>               13728 1695.0\n",
      "+ crim   1    122.52 13606 1696.7\n",
      "+ age    1     66.24 13662 1698.8\n",
      "+ tax    1     44.36 13684 1699.6\n",
      "+ nox    1     24.81 13703 1700.3\n",
      "+ zn     1     14.96 13713 1700.7\n",
      "+ rad    1      6.07 13722 1701.0\n",
      "+ indus  1      0.83 13727 1701.2\n",
      "\n",
      "Step:  AIC=1682.53\n",
      "medv ~ lstat + rm + ptratio + dis\n",
      "\n",
      "        Df Sum of Sq   RSS    AIC\n",
      "+ nox    1    759.56 12469 1658.8\n",
      "+ black  1    502.64 12726 1669.2\n",
      "+ chas   1    267.43 12962 1678.4\n",
      "+ indus  1    242.65 12986 1679.4\n",
      "+ tax    1    240.34 12989 1679.5\n",
      "+ crim   1    233.54 12995 1679.7\n",
      "<none>               13229 1682.5\n",
      "+ zn     1    144.81 13084 1683.2\n",
      "+ age    1     61.36 13168 1686.4\n",
      "+ rad    1     22.40 13206 1687.9\n",
      "\n",
      "Step:  AIC=1658.83\n",
      "medv ~ lstat + rm + ptratio + dis + nox\n",
      "\n",
      "        Df Sum of Sq   RSS    AIC\n",
      "+ chas   1    328.27 12141 1651.6\n",
      "+ black  1    311.83 12158 1652.2\n",
      "<none>               12469 1658.8\n",
      "+ zn     1    151.71 12318 1658.9\n",
      "+ crim   1    141.43 12328 1659.3\n",
      "+ rad    1     53.48 12416 1662.9\n",
      "+ indus  1     17.10 12452 1664.4\n",
      "+ tax    1     10.50 12459 1664.6\n",
      "+ age    1      0.25 12469 1665.0\n",
      "\n",
      "Step:  AIC=1651.56\n",
      "medv ~ lstat + rm + ptratio + dis + nox + chas\n",
      "\n",
      "        Df Sum of Sq   RSS    AIC\n",
      "+ black  1   272.837 11868 1646.3\n",
      "+ zn     1   164.406 11977 1650.9\n",
      "<none>               12141 1651.6\n",
      "+ crim   1   116.330 12025 1652.9\n",
      "+ rad    1    58.556 12082 1655.3\n",
      "+ indus  1    26.274 12115 1656.7\n",
      "+ tax    1     4.187 12137 1657.6\n",
      "+ age    1     2.331 12139 1657.7\n",
      "\n",
      "Step:  AIC=1646.28\n",
      "medv ~ lstat + rm + ptratio + dis + nox + chas + black\n",
      "\n",
      "        Df Sum of Sq   RSS    AIC\n",
      "+ zn     1   189.936 11678 1644.3\n",
      "<none>               11868 1646.3\n",
      "+ rad    1   144.320 11724 1646.3\n",
      "+ crim   1    55.633 11813 1650.1\n",
      "+ indus  1    15.584 11853 1651.8\n",
      "+ age    1     9.446 11859 1652.1\n",
      "+ tax    1     2.703 11866 1652.4\n",
      "\n",
      "Step:  AIC=1644.35\n",
      "medv ~ lstat + rm + ptratio + dis + nox + chas + black + zn\n",
      "\n",
      "        Df Sum of Sq   RSS    AIC\n",
      "<none>               11678 1644.3\n",
      "+ crim   1    94.712 11584 1646.5\n",
      "+ rad    1    93.614 11585 1646.5\n",
      "+ indus  1    16.048 11662 1649.9\n",
      "+ tax    1     3.952 11674 1650.4\n",
      "+ age    1     1.491 11677 1650.5\n"
     ]
    }
   ],
   "source": [
    "predictors <- names(Boston) [-grep('medv', names(Boston))] #vector of explanatory variable names\n",
    "formula <- as.formula(paste(\"y ~ \", paste(names(Boston[,predictors]), collapse = \"+\")))\n",
    "model_fs <- lm(medv ~ 1, data = Boston)\n",
    "selection_fs <- step(model_fs, direction=\"forward\", trace = TRUE, k=log(nrow(Boston)), scope = list(upper=formula))\n"
   ]
  },
  {
   "cell_type": "markdown",
   "id": "0784d3ae",
   "metadata": {},
   "source": [
    "Using k = log(nrow(Boston)) in the step function changes the measure used from AIC to BIC, even though it is still listed as AIC in the output. As you can see from the output, lstat was the first variable added to the model followed by rm, ptratio, dis, nox, chas, black and zn. The output also shows the AIC (or in this case BIC) of the model when each variable is added to the current model. Now we can view our final model using the summary() function."
   ]
  },
  {
   "cell_type": "code",
   "execution_count": 4,
   "id": "0a14f5ea",
   "metadata": {},
   "outputs": [
    {
     "data": {
      "text/plain": [
       "\n",
       "Call:\n",
       "lm(formula = medv ~ lstat + rm + ptratio + dis + nox + chas + \n",
       "    black + zn, data = Boston)\n",
       "\n",
       "Residuals:\n",
       "     Min       1Q   Median       3Q      Max \n",
       "-15.6996  -2.7925  -0.5477   1.7005  27.6510 \n",
       "\n",
       "Coefficients:\n",
       "              Estimate Std. Error t value Pr(>|t|)    \n",
       "(Intercept)  30.316950   4.870856   6.224 1.03e-09 ***\n",
       "lstat        -0.543125   0.047652 -11.398  < 2e-16 ***\n",
       "rm            4.116082   0.408594  10.074  < 2e-16 ***\n",
       "ptratio      -0.881851   0.115718  -7.621 1.29e-13 ***\n",
       "dis          -1.382714   0.187604  -7.370 7.15e-13 ***\n",
       "nox         -16.687428   3.228873  -5.168 3.43e-07 ***\n",
       "chas          3.111062   0.870076   3.576 0.000384 ***\n",
       "black         0.009404   0.002639   3.563 0.000401 ***\n",
       "zn            0.037808   0.013298   2.843 0.004652 ** \n",
       "---\n",
       "Signif. codes:  0 '***' 0.001 '**' 0.01 '*' 0.05 '.' 0.1 ' ' 1\n",
       "\n",
       "Residual standard error: 4.847 on 497 degrees of freedom\n",
       "Multiple R-squared:  0.7266,\tAdjusted R-squared:  0.7222 \n",
       "F-statistic: 165.1 on 8 and 497 DF,  p-value: < 2.2e-16\n"
      ]
     },
     "metadata": {},
     "output_type": "display_data"
    }
   ],
   "source": [
    "summary(selection_fs)"
   ]
  },
  {
   "cell_type": "markdown",
   "id": "0c454972",
   "metadata": {},
   "source": [
    "## Backward selection algorithm"
   ]
  },
  {
   "cell_type": "markdown",
   "id": "aa45f079",
   "metadata": {},
   "source": [
    "The backward selction algorith works in the opposite fashion to the forward selection algorithm. We start with with a model containing all possible explanatory variables and one-by-one we subtract a the variable that minimises the AIC or BIC for the model. This process is repeated until subtracting a variable does not lower the criterion of choice of the model."
   ]
  },
  {
   "cell_type": "code",
   "execution_count": 5,
   "id": "b78a0885",
   "metadata": {},
   "outputs": [
    {
     "data": {
      "text/plain": [
       "\n",
       "Call:\n",
       "lm(formula = medv ~ ., data = Boston)\n",
       "\n",
       "Residuals:\n",
       "    Min      1Q  Median      3Q     Max \n",
       "-15.595  -2.730  -0.518   1.777  26.199 \n",
       "\n",
       "Coefficients:\n",
       "              Estimate Std. Error t value Pr(>|t|)    \n",
       "(Intercept)  3.646e+01  5.103e+00   7.144 3.28e-12 ***\n",
       "crim        -1.080e-01  3.286e-02  -3.287 0.001087 ** \n",
       "zn           4.642e-02  1.373e-02   3.382 0.000778 ***\n",
       "indus        2.056e-02  6.150e-02   0.334 0.738288    \n",
       "chas         2.687e+00  8.616e-01   3.118 0.001925 ** \n",
       "nox         -1.777e+01  3.820e+00  -4.651 4.25e-06 ***\n",
       "rm           3.810e+00  4.179e-01   9.116  < 2e-16 ***\n",
       "age          6.922e-04  1.321e-02   0.052 0.958229    \n",
       "dis         -1.476e+00  1.995e-01  -7.398 6.01e-13 ***\n",
       "rad          3.060e-01  6.635e-02   4.613 5.07e-06 ***\n",
       "tax         -1.233e-02  3.760e-03  -3.280 0.001112 ** \n",
       "ptratio     -9.527e-01  1.308e-01  -7.283 1.31e-12 ***\n",
       "black        9.312e-03  2.686e-03   3.467 0.000573 ***\n",
       "lstat       -5.248e-01  5.072e-02 -10.347  < 2e-16 ***\n",
       "---\n",
       "Signif. codes:  0 '***' 0.001 '**' 0.01 '*' 0.05 '.' 0.1 ' ' 1\n",
       "\n",
       "Residual standard error: 4.745 on 492 degrees of freedom\n",
       "Multiple R-squared:  0.7406,\tAdjusted R-squared:  0.7338 \n",
       "F-statistic: 108.1 on 13 and 492 DF,  p-value: < 2.2e-16\n"
      ]
     },
     "metadata": {},
     "output_type": "display_data"
    },
    {
     "data": {
      "text/html": [
       "3091.00664411486"
      ],
      "text/latex": [
       "3091.00664411486"
      ],
      "text/markdown": [
       "3091.00664411486"
      ],
      "text/plain": [
       "[1] 3091.007"
      ]
     },
     "metadata": {},
     "output_type": "display_data"
    }
   ],
   "source": [
    "#Create full linear regression model\n",
    "model <- lm(medv ~ ., data = Boston)\n",
    "\n",
    "summary(model)"
   ]
  },
  {
   "cell_type": "code",
   "execution_count": 7,
   "id": "63b34c02",
   "metadata": {},
   "outputs": [
    {
     "name": "stdout",
     "output_type": "stream",
     "text": [
      "Start:  AIC=1648.81\n",
      "medv ~ crim + zn + indus + chas + nox + rm + age + dis + rad + \n",
      "    tax + ptratio + black + lstat\n",
      "\n",
      "          Df Sum of Sq   RSS    AIC\n",
      "- age      1      0.06 11079 1642.6\n",
      "- indus    1      2.52 11081 1642.7\n",
      "<none>                 11079 1648.8\n",
      "- chas     1    218.97 11298 1652.5\n",
      "- tax      1    242.26 11321 1653.5\n",
      "- crim     1    243.22 11322 1653.6\n",
      "- zn       1    257.49 11336 1654.2\n",
      "- black    1    270.63 11349 1654.8\n",
      "- rad      1    479.15 11558 1664.0\n",
      "- nox      1    487.16 11566 1664.4\n",
      "- ptratio  1   1194.23 12273 1694.4\n",
      "- dis      1   1232.41 12311 1696.0\n",
      "- rm       1   1871.32 12950 1721.6\n",
      "- lstat    1   2410.84 13490 1742.2\n",
      "\n",
      "Step:  AIC=1642.59\n",
      "medv ~ crim + zn + indus + chas + nox + rm + dis + rad + tax + \n",
      "    ptratio + black + lstat\n",
      "\n",
      "          Df Sum of Sq   RSS    AIC\n",
      "- indus    1      2.52 11081 1636.5\n",
      "<none>                 11079 1642.6\n",
      "- chas     1    219.91 11299 1646.3\n",
      "- tax      1    242.24 11321 1647.3\n",
      "- crim     1    243.20 11322 1647.3\n",
      "- zn       1    260.32 11339 1648.1\n",
      "- black    1    272.26 11351 1648.7\n",
      "- rad      1    481.09 11560 1657.9\n",
      "- nox      1    520.87 11600 1659.6\n",
      "- ptratio  1   1200.23 12279 1688.4\n",
      "- dis      1   1352.26 12431 1694.6\n",
      "- rm       1   1959.55 13038 1718.8\n",
      "- lstat    1   2718.88 13798 1747.4\n",
      "\n",
      "Step:  AIC=1636.48\n",
      "medv ~ crim + zn + chas + nox + rm + dis + rad + tax + ptratio + \n",
      "    black + lstat\n",
      "\n",
      "          Df Sum of Sq   RSS    AIC\n",
      "<none>                 11081 1636.5\n",
      "- chas     1    227.21 11309 1640.5\n",
      "- crim     1    245.37 11327 1641.3\n",
      "- zn       1    257.82 11339 1641.9\n",
      "- black    1    270.82 11352 1642.5\n",
      "- tax      1    273.62 11355 1642.6\n",
      "- rad      1    500.92 11582 1652.6\n",
      "- nox      1    541.91 11623 1654.4\n",
      "- ptratio  1   1206.45 12288 1682.5\n",
      "- dis      1   1448.94 12530 1692.4\n",
      "- rm       1   1963.66 13045 1712.8\n",
      "- lstat    1   2723.48 13805 1741.5\n"
     ]
    },
    {
     "data": {
      "text/html": [
       "3023.72638782506"
      ],
      "text/latex": [
       "3023.72638782506"
      ],
      "text/markdown": [
       "3023.72638782506"
      ],
      "text/plain": [
       "[1] 3023.726"
      ]
     },
     "metadata": {},
     "output_type": "display_data"
    }
   ],
   "source": [
    "selection_bs <- step(model, direction=\"backward\", trace = TRUE, k=log(nrow(Boston)))"
   ]
  },
  {
   "cell_type": "markdown",
   "id": "31c942c4",
   "metadata": {},
   "source": [
    "Using the backward selection algorithm step 1 subtracts age from the model and then step 2 subtracts the indus variable from the model. After step 2 we cannot improve our model further any further by subtracting a variable. The final model can be viewed using the summary() function."
   ]
  },
  {
   "cell_type": "code",
   "execution_count": 8,
   "id": "8d0e5205",
   "metadata": {},
   "outputs": [
    {
     "data": {
      "text/plain": [
       "\n",
       "Call:\n",
       "lm(formula = medv ~ crim + zn + chas + nox + rm + dis + rad + \n",
       "    tax + ptratio + black + lstat, data = Boston)\n",
       "\n",
       "Residuals:\n",
       "     Min       1Q   Median       3Q      Max \n",
       "-15.5984  -2.7386  -0.5046   1.7273  26.2373 \n",
       "\n",
       "Coefficients:\n",
       "              Estimate Std. Error t value Pr(>|t|)    \n",
       "(Intercept)  36.341145   5.067492   7.171 2.73e-12 ***\n",
       "crim         -0.108413   0.032779  -3.307 0.001010 ** \n",
       "zn            0.045845   0.013523   3.390 0.000754 ***\n",
       "chas          2.718716   0.854240   3.183 0.001551 ** \n",
       "nox         -17.376023   3.535243  -4.915 1.21e-06 ***\n",
       "rm            3.801579   0.406316   9.356  < 2e-16 ***\n",
       "dis          -1.492711   0.185731  -8.037 6.84e-15 ***\n",
       "rad           0.299608   0.063402   4.726 3.00e-06 ***\n",
       "tax          -0.011778   0.003372  -3.493 0.000521 ***\n",
       "ptratio      -0.946525   0.129066  -7.334 9.24e-13 ***\n",
       "black         0.009291   0.002674   3.475 0.000557 ***\n",
       "lstat        -0.522553   0.047424 -11.019  < 2e-16 ***\n",
       "---\n",
       "Signif. codes:  0 '***' 0.001 '**' 0.01 '*' 0.05 '.' 0.1 ' ' 1\n",
       "\n",
       "Residual standard error: 4.736 on 494 degrees of freedom\n",
       "Multiple R-squared:  0.7406,\tAdjusted R-squared:  0.7348 \n",
       "F-statistic: 128.2 on 11 and 494 DF,  p-value: < 2.2e-16\n"
      ]
     },
     "metadata": {},
     "output_type": "display_data"
    }
   ],
   "source": [
    "summary(selection_bs)"
   ]
  },
  {
   "cell_type": "markdown",
   "id": "1b86d563",
   "metadata": {},
   "source": [
    "You may have noticed that the forward and backward algorithm have given 2 different models. This is not always the case. Moving forward you could test both the models performance using cross validation or prediction methods. If we would like to find the model with the lowest AIC/BIC from both backward and forward selction algorithms we can change the direction argument in the step() function to direction = \"both\" which in this case would return the model selected through backward selection."
   ]
  },
  {
   "cell_type": "code",
   "execution_count": 11,
   "id": "d6e74c26",
   "metadata": {},
   "outputs": [
    {
     "name": "stdout",
     "output_type": "stream",
     "text": [
      "Start:  AIC=1648.81\n",
      "medv ~ crim + zn + indus + chas + nox + rm + age + dis + rad + \n",
      "    tax + ptratio + black + lstat\n",
      "\n",
      "          Df Sum of Sq   RSS    AIC\n",
      "- age      1      0.06 11079 1642.6\n",
      "- indus    1      2.52 11081 1642.7\n",
      "<none>                 11079 1648.8\n",
      "- chas     1    218.97 11298 1652.5\n",
      "- tax      1    242.26 11321 1653.5\n",
      "- crim     1    243.22 11322 1653.6\n",
      "- zn       1    257.49 11336 1654.2\n",
      "- black    1    270.63 11349 1654.8\n",
      "- rad      1    479.15 11558 1664.0\n",
      "- nox      1    487.16 11566 1664.4\n",
      "- ptratio  1   1194.23 12273 1694.4\n",
      "- dis      1   1232.41 12311 1696.0\n",
      "- rm       1   1871.32 12950 1721.6\n",
      "- lstat    1   2410.84 13490 1742.2\n",
      "\n",
      "Step:  AIC=1642.59\n",
      "medv ~ crim + zn + indus + chas + nox + rm + dis + rad + tax + \n",
      "    ptratio + black + lstat\n",
      "\n",
      "          Df Sum of Sq   RSS    AIC\n",
      "- indus    1      2.52 11081 1636.5\n",
      "<none>                 11079 1642.6\n",
      "- chas     1    219.91 11299 1646.3\n",
      "- tax      1    242.24 11321 1647.3\n",
      "- crim     1    243.20 11322 1647.3\n",
      "- zn       1    260.32 11339 1648.1\n",
      "- black    1    272.26 11351 1648.7\n",
      "+ age      1      0.06 11079 1648.8\n",
      "- rad      1    481.09 11560 1657.9\n",
      "- nox      1    520.87 11600 1659.6\n",
      "- ptratio  1   1200.23 12279 1688.4\n",
      "- dis      1   1352.26 12431 1694.6\n",
      "- rm       1   1959.55 13038 1718.8\n",
      "- lstat    1   2718.88 13798 1747.4\n",
      "\n",
      "Step:  AIC=1636.48\n",
      "medv ~ crim + zn + chas + nox + rm + dis + rad + tax + ptratio + \n",
      "    black + lstat\n",
      "\n",
      "          Df Sum of Sq   RSS    AIC\n",
      "<none>                 11081 1636.5\n",
      "- chas     1    227.21 11309 1640.5\n",
      "- crim     1    245.37 11327 1641.3\n",
      "- zn       1    257.82 11339 1641.9\n",
      "- black    1    270.82 11352 1642.5\n",
      "+ indus    1      2.52 11079 1642.6\n",
      "- tax      1    273.62 11355 1642.6\n",
      "+ age      1      0.06 11081 1642.7\n",
      "- rad      1    500.92 11582 1652.6\n",
      "- nox      1    541.91 11623 1654.4\n",
      "- ptratio  1   1206.45 12288 1682.5\n",
      "- dis      1   1448.94 12530 1692.4\n",
      "- rm       1   1963.66 13045 1712.8\n",
      "- lstat    1   2723.48 13805 1741.5\n"
     ]
    }
   ],
   "source": [
    "selection_bs <- step(model, direction=\"both\", trace = TRUE, k=log(nrow(Boston)))"
   ]
  },
  {
   "cell_type": "markdown",
   "id": "3d193312",
   "metadata": {},
   "source": [
    "## Leaps and Bounds"
   ]
  },
  {
   "cell_type": "markdown",
   "id": "2b99ef73",
   "metadata": {},
   "source": [
    "Models selected using the backward and forward algorithms result in nested models. Another method we could use is taking the best subset of explanatory variables that minimise some criterion of importance. This is where the leaps() function from the **leaps** package comes in. leaps() performs an exhaustive search for the best subsets of the variables in x for predicting y in linear regression, using an efficient branch-and-bound algorithm. To measure best model fit we can choose from __[Mallows' Cp](https://en.wikipedia.org/wiki/Mallows%27s_Cp)__, $R^2$ or adjusted $R^2$. We will be using Mallows' $C_p$ in the following code."
   ]
  },
  {
   "cell_type": "code",
   "execution_count": 12,
   "id": "421c0612",
   "metadata": {},
   "outputs": [
    {
     "name": "stderr",
     "output_type": "stream",
     "text": [
      "Warning message:\n",
      "\"unable to access index for repository https://cran.r-project.org/bin/windows/contrib/3.6:\n",
      "  cannot open URL 'https://cran.r-project.org/bin/windows/contrib/3.6/PACKAGES'\"Package which is only available in source form, and may need\n",
      "  compilation of C/C++/Fortran: 'leaps'\n"
     ]
    },
    {
     "name": "stdout",
     "output_type": "stream",
     "text": [
      "  These will not be installed\n"
     ]
    },
    {
     "ename": "ERROR",
     "evalue": "Error in library(leaps): there is no package called 'leaps'\n",
     "output_type": "error",
     "traceback": [
      "Error in library(leaps): there is no package called 'leaps'\nTraceback:\n",
      "1. library(leaps)"
     ]
    }
   ],
   "source": [
    "#Install and load \"leaps\" package\n",
    "install.packages(\"leaps\")\n",
    "library(leaps)\n",
    "\n",
    "y <- Boston$medv #Response Variable\n",
    "x <- Boston[,1:13] #Explanatory variable matrix\n",
    "\n",
    "selection_leaps <- leaps(x, y, method = \"Cp\", nbest = 1, strictly.compatible = FALSE)\n",
    "\n"
   ]
  },
  {
   "cell_type": "markdown",
   "id": "79d479d0",
   "metadata": {},
   "source": [
    "To visualise the $C_p$ value for the different models you can use the following code."
   ]
  },
  {
   "cell_type": "code",
   "execution_count": null,
   "id": "1a07db7a",
   "metadata": {},
   "outputs": [],
   "source": [
    "plot(selection_leaps$size-1, selection_leaps$Cp, xlab = \"Number of predictors\", ylab = \"Cp\")"
   ]
  },
  {
   "cell_type": "markdown",
   "id": "11fec74b",
   "metadata": {},
   "source": [
    "The \"best model\" is the one that minimises Mallows' $C_p$. In this case it is a model using 11 out of the possible 13 explanatory variables."
   ]
  },
  {
   "cell_type": "code",
   "execution_count": null,
   "id": "38feaabc",
   "metadata": {},
   "outputs": [],
   "source": [
    "best.model <- selection_leaps$which[which((selection_leaps$Cp == min(selection_leaps$Cp))),]\n",
    "\n",
    "formula <- as.formula(paste(\"y ~ \", paste(colnames(x)[best.model], collapse = \"+\")))\n",
    "\n",
    "model_leaps <- lm(formula, data = Boston)\n",
    "summary(model_leaps)"
   ]
  },
  {
   "cell_type": "markdown",
   "id": "8a2791c1",
   "metadata": {},
   "source": [
    "It turns out that the best model found using the leaps() method is the same model that was chosen using the backward selection algorithm."
   ]
  }
 ],
 "metadata": {
  "kernelspec": {
   "display_name": "R",
   "language": "R",
   "name": "ir"
  },
  "language_info": {
   "codemirror_mode": "r",
   "file_extension": ".r",
   "mimetype": "text/x-r-source",
   "name": "R",
   "pygments_lexer": "r",
   "version": "3.6.1"
  }
 },
 "nbformat": 4,
 "nbformat_minor": 5
}
