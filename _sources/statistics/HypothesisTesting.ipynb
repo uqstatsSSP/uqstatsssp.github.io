{
 "cells": [
  {
   "attachments": {},
   "cell_type": "markdown",
   "metadata": {},
   "source": [
    "## EM-212 Applied Data Science\n",
    "## Hypothesis testing\n",
    "\n",
    "This is a jupyter-notebook implementation and walkthrough of hypothesis testing with a real-life example. The notebook covers the following -\n",
    "* Randomly generating sample data \n",
    "* How to sample from a dataset\n",
    "* Performing a t-test to compare two samples from a population\n",
    "* The assumptions we are making about samples when we use a t-test\n",
    "* How to apply this to real data (TikTok songs)\n"
   ]
  },
  {
   "cell_type": "code",
   "execution_count": 17,
   "metadata": {},
   "outputs": [],
   "source": [
    "from scipy import stats\n",
    "from scipy import optimize\n",
    "import numpy as np\n",
    "import matplotlib.pyplot as plt\n",
    "import seaborn as sns\n",
    "import random \n",
    "\n",
    "#setting seed \n",
    "random.seed(212)"
   ]
  },
  {
   "attachments": {},
   "cell_type": "markdown",
   "metadata": {},
   "source": [
    "### T-test"
   ]
  },
  {
   "attachments": {},
   "cell_type": "markdown",
   "metadata": {},
   "source": [
    "* Null hypothesis H0: Checking for mean of the population is a given value\n",
    "* Distributions: Normal distribution (stats.norm) \n",
    "* SciPy Functions for T-Test: stats.ttest_1samp"
   ]
  },
  {
   "cell_type": "code",
   "execution_count": 7,
   "metadata": {},
   "outputs": [],
   "source": [
    "# Generating the population distribution from a known mean\n",
    "\n",
    "mu0 = 1.0 # the null hypothesis that the population mean is equal to mu0\n",
    "mu = 0.8 # the true population mean generated\n",
    "sigma = 0.5 # the true, known population standard deviation\n",
    "X = stats.norm(mu, sigma) # generate the population distribution from a standard normal distribution with the population parameters\n",
    "n = 100 # number of samples to draw from the population\n",
    "X_samples = X.rvs(n) # draw a sample from the population"
   ]
  },
  {
   "cell_type": "markdown",
   "metadata": {},
   "source": [
    "* given $X_{samples}$ we need to compute a test statistic\n",
    "* if the population standard deviation $\\sigma$ is known, as in this example, we can use\n",
    "* <font size=\"5\"> $t = \\frac{\\bar{x}- \\mu_0}{\\sigma/\\sqrt{n}}$. </font>\n",
    "* Note that if the population standard deviation is not known, we compute the sample standard deviation instead\n",
    "* This is all taken care of by the scipy function"
   ]
  },
  {
   "cell_type": "markdown",
   "metadata": {},
   "source": [
    "* Because we are testing the mean of the sample to the mean of a the population we use `stats.ttest_1samp` which is for testing with a single population parameter"
   ]
  },
  {
   "cell_type": "markdown",
   "metadata": {},
   "source": [
    "**Hypothesis testing for single population parameter**"
   ]
  },
  {
   "cell_type": "code",
   "execution_count": 8,
   "metadata": {},
   "outputs": [],
   "source": [
    "t, p = stats.ttest_1samp(X_samples, mu) # returns the test statistic and the p-value. note we generally have 5% or 0.05 significance value."
   ]
  },
  {
   "cell_type": "code",
   "execution_count": 9,
   "metadata": {},
   "outputs": [
    {
     "data": {
      "text/plain": [
       "(0.9548454307037728, 0.3419816012020762)"
      ]
     },
     "execution_count": 9,
     "metadata": {},
     "output_type": "execute_result"
    }
   ],
   "source": [
    "t, p"
   ]
  },
  {
   "attachments": {},
   "cell_type": "markdown",
   "metadata": {},
   "source": [
    "* Because 0.34 > 0.05, we have a result that is not statistically significant \n",
    "* **This mean we fail to reject the Null Hypothesis that the population mean is equal to 1.0**\n",
    "* Again note that the true population mean we used to generate the population data is **0.8**\n",
    "* This function performed a 2-tailed test"
   ]
  },
  {
   "cell_type": "markdown",
   "metadata": {},
   "source": [
    "**Hypothesis testing for two sample means**"
   ]
  },
  {
   "cell_type": "code",
   "execution_count": 7,
   "metadata": {},
   "outputs": [],
   "source": [
    "n, sigma = 50, 1.0 # sample size, and the standard deviation\n",
    "mu1, mu2 = np.random.rand(2) # means of sample 1 and sample2\n",
    "X1 = stats.norm(mu1, sigma) # create normal distribution for population from which to draw sample 1\n",
    "X1_sample = X1.rvs(n) # draw sample 1 with sample size n=50 with default standard deviation = 1 and mean mu1\n",
    "X2 = stats.norm(mu2, sigma) # create normal distribution for population from which to draw sample 1\n",
    "X2_sample = X2.rvs(n) # draw sample 2 with sample size n=50 with default standard deviation = 1 and mean mu2"
   ]
  },
  {
   "cell_type": "markdown",
   "metadata": {},
   "source": [
    "* Our Null Hypothesis is that our two samples derive from the sample population\n",
    "* Let's use a scipy function to perform the hypothesis testing"
   ]
  },
  {
   "cell_type": "code",
   "execution_count": 8,
   "metadata": {},
   "outputs": [],
   "source": [
    "t, p = stats.ttest_ind(X1_sample, X2_sample)"
   ]
  },
  {
   "cell_type": "code",
   "execution_count": 9,
   "metadata": {},
   "outputs": [
    {
     "data": {
      "text/plain": [
       "(-1.5769281817189138, 0.1180347544605434)"
      ]
     },
     "execution_count": 9,
     "metadata": {},
     "output_type": "execute_result"
    }
   ],
   "source": [
    "t, p # t is the test statistic and p is the p-value"
   ]
  },
  {
   "cell_type": "markdown",
   "metadata": {},
   "source": [
    "* We are using the common significance level of 5% or 0.05\n",
    "* Because **p** > **0.05** we fail to reject the null hypothesis that the two samples derive from different population means\n",
    "* We don't have sufficient evidence to suggest that they derive from different population\n",
    "* And because we generated this data from a known population we selected ourselves, we know our conclusion is correct "
   ]
  },
  {
   "attachments": {},
   "cell_type": "markdown",
   "metadata": {},
   "source": [
    "### Applying T-test on TikTok Data\n"
   ]
  },
  {
   "attachments": {},
   "cell_type": "markdown",
   "metadata": {},
   "source": [
    "Dataset of common TikTok songs, and we want to test the idea that Doja Cat's songs are more dancable. "
   ]
  },
  {
   "cell_type": "code",
   "execution_count": 10,
   "metadata": {},
   "outputs": [
    {
     "data": {
      "text/html": [
       "<div>\n",
       "<style scoped>\n",
       "    .dataframe tbody tr th:only-of-type {\n",
       "        vertical-align: middle;\n",
       "    }\n",
       "\n",
       "    .dataframe tbody tr th {\n",
       "        vertical-align: top;\n",
       "    }\n",
       "\n",
       "    .dataframe thead th {\n",
       "        text-align: right;\n",
       "    }\n",
       "</style>\n",
       "<table border=\"1\" class=\"dataframe\">\n",
       "  <thead>\n",
       "    <tr style=\"text-align: right;\">\n",
       "      <th></th>\n",
       "      <th>track_id</th>\n",
       "      <th>track_name</th>\n",
       "      <th>artist_id</th>\n",
       "      <th>artist_name</th>\n",
       "      <th>album_id</th>\n",
       "      <th>duration</th>\n",
       "      <th>release_date</th>\n",
       "      <th>popularity</th>\n",
       "      <th>danceability</th>\n",
       "      <th>energy</th>\n",
       "      <th>...</th>\n",
       "      <th>speechiness</th>\n",
       "      <th>acousticness</th>\n",
       "      <th>instrumentalness</th>\n",
       "      <th>liveness</th>\n",
       "      <th>valence</th>\n",
       "      <th>tempo</th>\n",
       "      <th>playlist_id</th>\n",
       "      <th>playlist_name</th>\n",
       "      <th>duration_mins</th>\n",
       "      <th>genre</th>\n",
       "    </tr>\n",
       "  </thead>\n",
       "  <tbody>\n",
       "    <tr>\n",
       "      <th>0</th>\n",
       "      <td>6kVuF2PYLuvl9T85XjNbaO</td>\n",
       "      <td>Lay It Down Gmix - Main</td>\n",
       "      <td>1Xfmvd48oOhEWkscWyEbh9</td>\n",
       "      <td>Lloyd</td>\n",
       "      <td>43C6GVlhXG4KfZuEbxty3r</td>\n",
       "      <td>302186</td>\n",
       "      <td>2011-01-01</td>\n",
       "      <td>28</td>\n",
       "      <td>0.597</td>\n",
       "      <td>0.800</td>\n",
       "      <td>...</td>\n",
       "      <td>0.3120</td>\n",
       "      <td>0.0461</td>\n",
       "      <td>0.0</td>\n",
       "      <td>0.180</td>\n",
       "      <td>0.565</td>\n",
       "      <td>155.932</td>\n",
       "      <td>6kVuF2PYLuvl9T85XjNbaO</td>\n",
       "      <td>6kVuF2PYLuvl9T85XjNbaO</td>\n",
       "      <td>5.036433</td>\n",
       "      <td>TIKTOK DANCE</td>\n",
       "    </tr>\n",
       "    <tr>\n",
       "      <th>1</th>\n",
       "      <td>1RGIjMFMgJxkZHMDXVYzOJ</td>\n",
       "      <td>Bartender (feat. Akon)</td>\n",
       "      <td>3aQeKQSyrW4qWr35idm0cy</td>\n",
       "      <td>T-Pain</td>\n",
       "      <td>6CrSEKCF4TYrbSIitegb3h</td>\n",
       "      <td>238800</td>\n",
       "      <td>2007-06-05</td>\n",
       "      <td>75</td>\n",
       "      <td>0.832</td>\n",
       "      <td>0.391</td>\n",
       "      <td>...</td>\n",
       "      <td>0.0628</td>\n",
       "      <td>0.0564</td>\n",
       "      <td>0.0</td>\n",
       "      <td>0.224</td>\n",
       "      <td>0.436</td>\n",
       "      <td>104.961</td>\n",
       "      <td>1RGIjMFMgJxkZHMDXVYzOJ</td>\n",
       "      <td>1RGIjMFMgJxkZHMDXVYzOJ</td>\n",
       "      <td>3.980000</td>\n",
       "      <td>TIKTOK DANCE</td>\n",
       "    </tr>\n",
       "  </tbody>\n",
       "</table>\n",
       "<p>2 rows × 23 columns</p>\n",
       "</div>"
      ],
      "text/plain": [
       "                 track_id               track_name               artist_id   \n",
       "0  6kVuF2PYLuvl9T85XjNbaO  Lay It Down Gmix - Main  1Xfmvd48oOhEWkscWyEbh9  \\\n",
       "1  1RGIjMFMgJxkZHMDXVYzOJ   Bartender (feat. Akon)  3aQeKQSyrW4qWr35idm0cy   \n",
       "\n",
       "  artist_name                album_id  duration release_date  popularity   \n",
       "0       Lloyd  43C6GVlhXG4KfZuEbxty3r    302186   2011-01-01          28  \\\n",
       "1      T-Pain  6CrSEKCF4TYrbSIitegb3h    238800   2007-06-05          75   \n",
       "\n",
       "   danceability  energy  ...  speechiness  acousticness  instrumentalness   \n",
       "0         0.597   0.800  ...       0.3120        0.0461               0.0  \\\n",
       "1         0.832   0.391  ...       0.0628        0.0564               0.0   \n",
       "\n",
       "   liveness  valence    tempo             playlist_id           playlist_name   \n",
       "0     0.180    0.565  155.932  6kVuF2PYLuvl9T85XjNbaO  6kVuF2PYLuvl9T85XjNbaO  \\\n",
       "1     0.224    0.436  104.961  1RGIjMFMgJxkZHMDXVYzOJ  1RGIjMFMgJxkZHMDXVYzOJ   \n",
       "\n",
       "   duration_mins         genre  \n",
       "0       5.036433  TIKTOK DANCE  \n",
       "1       3.980000  TIKTOK DANCE  \n",
       "\n",
       "[2 rows x 23 columns]"
      ]
     },
     "execution_count": 10,
     "metadata": {},
     "output_type": "execute_result"
    }
   ],
   "source": [
    "import pandas as pd  \n",
    "import seaborn as sns \n",
    "\n",
    "tiktok_data = pd.read_csv('data/tiktok.csv') # This assumes you have also downloaded and unzipped the Data folder\n",
    "tiktok_data.head(2)"
   ]
  },
  {
   "cell_type": "code",
   "execution_count": null,
   "metadata": {},
   "outputs": [],
   "source": []
  },
  {
   "cell_type": "code",
   "execution_count": 12,
   "metadata": {},
   "outputs": [
    {
     "data": {
      "text/plain": [
       "doja_or_noja\n",
       "False    6654\n",
       "True       92\n",
       "Name: count, dtype: int64"
      ]
     },
     "execution_count": 12,
     "metadata": {},
     "output_type": "execute_result"
    }
   ],
   "source": [
    "tiktok_data['doja_or_noja'] = tiktok_data.artist_name=='Doja Cat' # Create a column that stores if it is Doja Cat or not. \n",
    "tiktok_data.doja_or_noja.value_counts()"
   ]
  },
  {
   "cell_type": "code",
   "execution_count": 13,
   "metadata": {},
   "outputs": [],
   "source": [
    "doja_X1 = tiktok_data[tiktok_data.doja_or_noja==False]\n",
    "doja_X2 = tiktok_data[tiktok_data.doja_or_noja==True]"
   ]
  },
  {
   "cell_type": "code",
   "execution_count": 14,
   "metadata": {},
   "outputs": [
    {
     "name": "stdout",
     "output_type": "stream",
     "text": [
      "0.740349113315299 0.13855559675060644\n"
     ]
    }
   ],
   "source": [
    "print(doja_X1.danceability.mean(), doja_X1.danceability.std()) # First we check the measures of central tendency to see if there is a relationship. "
   ]
  },
  {
   "cell_type": "code",
   "execution_count": 15,
   "metadata": {},
   "outputs": [
    {
     "name": "stdout",
     "output_type": "stream",
     "text": [
      "0.7826739130434784 0.07237146373082283\n"
     ]
    }
   ],
   "source": [
    "print(doja_X2.danceability.mean(), doja_X2.danceability.std())"
   ]
  },
  {
   "cell_type": "markdown",
   "metadata": {},
   "source": [
    "We can also use a similar `t-test` based approach in order to answer our hypothesis - are Doja Cat songs just more danceable than other songs popular on TikTok? "
   ]
  },
  {
   "cell_type": "code",
   "execution_count": 15,
   "metadata": {},
   "outputs": [],
   "source": [
    "t, p = stats.ttest_ind(doja_X1.danceability, doja_X2.danceability)"
   ]
  },
  {
   "cell_type": "code",
   "execution_count": 16,
   "metadata": {},
   "outputs": [
    {
     "data": {
      "text/plain": [
       "(-2.9243151497279807, 0.0034636445170658807)"
      ]
     },
     "execution_count": 16,
     "metadata": {},
     "output_type": "execute_result"
    }
   ],
   "source": [
    "t, p # t is the test statistic and p is the p-value"
   ]
  },
  {
   "attachments": {},
   "cell_type": "markdown",
   "metadata": {},
   "source": [
    "We seem to find a significant result! Great! \n",
    "\n",
    "Open Questions -\n",
    "\n",
    "* What problems do you see with this approach? \n",
    "\n",
    "* What specific assumptions are we making about the data? \n",
    "\n",
    "* What are the differences between the Doja Cat and non-Doja Cat songs? \n",
    "\n"
   ]
  },
  {
   "cell_type": "code",
   "execution_count": 5,
   "metadata": {},
   "outputs": [
    {
     "name": "stdout",
     "output_type": "stream",
     "text": [
      "Not Doja 0.7403491133152982 0.13855559675060572\n",
      "Doja 0.7826739130434784 0.07237146373082283\n"
     ]
    }
   ],
   "source": [
    "print(\"Not Doja\", doja_X1.danceability.mean(), doja_X1.danceability.std())\n",
    "print(\"Doja\", doja_X2.danceability.mean(), doja_X2.danceability.std())"
   ]
  },
  {
   "cell_type": "markdown",
   "metadata": {},
   "source": [
    "It is sometimes easier to look visually. "
   ]
  },
  {
   "cell_type": "code",
   "execution_count": 20,
   "metadata": {},
   "outputs": [
    {
     "data": {
      "text/plain": [
       "<Axes: xlabel='danceability', ylabel='Count'>"
      ]
     },
     "execution_count": 20,
     "metadata": {},
     "output_type": "execute_result"
    },
    {
     "data": {
      "image/png": "[encoded data removed]",
      "text/plain": [
       "<Figure size 640x480 with 1 Axes>"
      ]
     },
     "metadata": {},
     "output_type": "display_data"
    }
   ],
   "source": [
    "\n",
    "import seaborn as sns \n",
    "\n",
    "sns.histplot(doja_X2.danceability,multiple='stack',color='yellow')\n",
    "sns.histplot(doja_X1.danceability,multiple='stack',color='grey')\n"
   ]
  },
  {
   "cell_type": "code",
   "execution_count": 21,
   "metadata": {},
   "outputs": [
    {
     "name": "stdout",
     "output_type": "stream",
     "text": [
      "Mann-Whitney U test 261842.0 0.017093534050211606\n"
     ]
    }
   ],
   "source": [
    "# We could address this with a Mann-Whitney U test\n",
    "\n",
    "from scipy.stats import mannwhitneyu\n",
    "t, p = mannwhitneyu(doja_X1.danceability, doja_X2.danceability)\n",
    "print(\"Mann-Whitney U test\",t,p)\n"
   ]
  },
  {
   "attachments": {},
   "cell_type": "markdown",
   "metadata": {},
   "source": [
    "### Next steps & summary:\n",
    "Other tests from UCLA - https://stats.oarc.ucla.edu/sas/whatstat/what-statistical-analysis-should-i-usestatistical-analyses-using-sas/\n",
    "    "
   ]
  },
  {
   "cell_type": "code",
   "execution_count": null,
   "metadata": {},
   "outputs": [],
   "source": []
  }
 ],
 "metadata": {
  "kernelspec": {
   "display_name": "Python 3 (ipykernel)",
   "language": "python",
   "name": "python3"
  },
  "language_info": {
   "codemirror_mode": {
    "name": "ipython",
    "version": 3
   },
   "file_extension": ".py",
   "mimetype": "text/x-python",
   "name": "python",
   "nbconvert_exporter": "python",
   "pygments_lexer": "ipython3",
   "version": "3.11.2"
  }
 },
 "nbformat": 4,
 "nbformat_minor": 4
}
